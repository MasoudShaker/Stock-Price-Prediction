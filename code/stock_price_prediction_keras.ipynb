{
  "nbformat": 4,
  "nbformat_minor": 0,
  "metadata": {
    "colab": {
      "provenance": [],
      "collapsed_sections": [
        "mPYS78ikjcIa"
      ]
    },
    "kernelspec": {
      "name": "python3",
      "display_name": "Python 3"
    },
    "accelerator": "GPU",
    "gpuClass": "standard"
  },
  "cells": [
    {
      "metadata": {
        "id": "EgaNRy_Rq0wx"
      },
      "cell_type": "markdown",
      "source": [
        "# Predict stock prices  with Long short-term memory (LSTM)"
      ]
    },
    {
      "metadata": {
        "id": "S1WPMQ_LHNQU"
      },
      "cell_type": "markdown",
      "source": [
        "This simple example will show you how LSTM models predict time series data. Stock market data is a great choice for this because it's quite regular and widely available via the Internet."
      ]
    },
    {
      "metadata": {
        "id": "vurGbUjFwBFO"
      },
      "cell_type": "markdown",
      "source": [
        "## Install requirements\n",
        "We install Tensorflow 2.0 with GPU support first"
      ]
    },
    {
      "metadata": {
        "id": "QSG622MbwEOJ",
        "outputId": "9c29fd0a-97c9-4596-9e60-1b444457421f",
        "colab": {
          "base_uri": "https://localhost:8080/"
        }
      },
      "cell_type": "code",
      "source": [
        "!pip install tensorflow-gpu==2.0.0-alpha0"
      ],
      "execution_count": null,
      "outputs": [
        {
          "output_type": "stream",
          "name": "stdout",
          "text": [
            "Looking in indexes: https://pypi.org/simple, https://us-python.pkg.dev/colab-wheels/public/simple/\n",
            "\u001b[31mERROR: Could not find a version that satisfies the requirement tensorflow-gpu==2.0.0-alpha0 (from versions: 1.13.1, 1.13.2, 1.14.0, 1.15.0, 1.15.2, 1.15.3, 1.15.4, 1.15.5, 2.0.0, 2.0.1, 2.0.2, 2.0.3, 2.0.4, 2.1.0, 2.1.1, 2.1.2, 2.1.3, 2.1.4, 2.2.0, 2.2.1, 2.2.2, 2.2.3, 2.3.0, 2.3.1, 2.3.2, 2.3.3, 2.3.4, 2.4.0, 2.4.1, 2.4.2, 2.4.3, 2.4.4, 2.5.0, 2.5.1, 2.5.2, 2.5.3, 2.6.0, 2.6.1, 2.6.2, 2.6.3, 2.6.4, 2.6.5, 2.7.0rc0, 2.7.0rc1, 2.7.0, 2.7.1, 2.7.2, 2.7.3, 2.8.0rc0, 2.8.0rc1, 2.8.0, 2.8.1, 2.8.2, 2.9.0rc0, 2.9.0rc1, 2.9.0rc2, 2.9.0, 2.9.1)\u001b[0m\n",
            "\u001b[31mERROR: No matching distribution found for tensorflow-gpu==2.0.0-alpha0\u001b[0m\n"
          ]
        }
      ]
    },
    {
      "metadata": {
        "id": "fmR4lwm81Vbr",
        "outputId": "b36d6a1a-c5e9-48f8-9319-5b5d51c571a9",
        "colab": {
          "base_uri": "https://localhost:8080/"
        }
      },
      "cell_type": "code",
      "source": [
        "!pip install pandas-datareader"
      ],
      "execution_count": null,
      "outputs": [
        {
          "output_type": "stream",
          "name": "stdout",
          "text": [
            "Looking in indexes: https://pypi.org/simple, https://us-python.pkg.dev/colab-wheels/public/simple/\n",
            "Requirement already satisfied: pandas-datareader in /usr/local/lib/python3.7/dist-packages (0.9.0)\n",
            "Requirement already satisfied: pandas>=0.23 in /usr/local/lib/python3.7/dist-packages (from pandas-datareader) (1.3.5)\n",
            "Requirement already satisfied: requests>=2.19.0 in /usr/local/lib/python3.7/dist-packages (from pandas-datareader) (2.23.0)\n",
            "Requirement already satisfied: lxml in /usr/local/lib/python3.7/dist-packages (from pandas-datareader) (4.2.6)\n",
            "Requirement already satisfied: pytz>=2017.3 in /usr/local/lib/python3.7/dist-packages (from pandas>=0.23->pandas-datareader) (2022.1)\n",
            "Requirement already satisfied: numpy>=1.17.3 in /usr/local/lib/python3.7/dist-packages (from pandas>=0.23->pandas-datareader) (1.21.6)\n",
            "Requirement already satisfied: python-dateutil>=2.7.3 in /usr/local/lib/python3.7/dist-packages (from pandas>=0.23->pandas-datareader) (2.8.2)\n",
            "Requirement already satisfied: six>=1.5 in /usr/local/lib/python3.7/dist-packages (from python-dateutil>=2.7.3->pandas>=0.23->pandas-datareader) (1.15.0)\n",
            "Requirement already satisfied: certifi>=2017.4.17 in /usr/local/lib/python3.7/dist-packages (from requests>=2.19.0->pandas-datareader) (2022.6.15)\n",
            "Requirement already satisfied: idna<3,>=2.5 in /usr/local/lib/python3.7/dist-packages (from requests>=2.19.0->pandas-datareader) (2.10)\n",
            "Requirement already satisfied: urllib3!=1.25.0,!=1.25.1,<1.26,>=1.21.1 in /usr/local/lib/python3.7/dist-packages (from requests>=2.19.0->pandas-datareader) (1.24.3)\n",
            "Requirement already satisfied: chardet<4,>=3.0.2 in /usr/local/lib/python3.7/dist-packages (from requests>=2.19.0->pandas-datareader) (3.0.4)\n"
          ]
        }
      ]
    },
    {
      "metadata": {
        "id": "hqWZAabeiLc_",
        "outputId": "7721c34e-9dc6-4681-eb31-68cf5f9ee276",
        "colab": {
          "base_uri": "https://localhost:8080/"
        }
      },
      "cell_type": "code",
      "source": [
        "!apt install graphviz"
      ],
      "execution_count": null,
      "outputs": [
        {
          "output_type": "stream",
          "name": "stdout",
          "text": [
            "Reading package lists... Done\n",
            "Building dependency tree       \n",
            "Reading state information... Done\n",
            "graphviz is already the newest version (2.40.1-2).\n",
            "The following package was automatically installed and is no longer required:\n",
            "  libnvidia-common-460\n",
            "Use 'apt autoremove' to remove it.\n",
            "0 upgraded, 0 newly installed, 0 to remove and 49 not upgraded.\n"
          ]
        }
      ]
    },
    {
      "metadata": {
        "id": "K5Wmmx6-iPUT",
        "outputId": "53cae3a8-2937-4d0d-d7e9-42032aa5e6a5",
        "colab": {
          "base_uri": "https://localhost:8080/"
        }
      },
      "cell_type": "code",
      "source": [
        "!pip install pydot pydot-ng"
      ],
      "execution_count": null,
      "outputs": [
        {
          "output_type": "stream",
          "name": "stdout",
          "text": [
            "Looking in indexes: https://pypi.org/simple, https://us-python.pkg.dev/colab-wheels/public/simple/\n",
            "Requirement already satisfied: pydot in /usr/local/lib/python3.7/dist-packages (1.3.0)\n",
            "Requirement already satisfied: pydot-ng in /usr/local/lib/python3.7/dist-packages (2.0.0)\n",
            "Requirement already satisfied: pyparsing>=2.1.4 in /usr/local/lib/python3.7/dist-packages (from pydot) (3.0.9)\n"
          ]
        }
      ]
    },
    {
      "metadata": {
        "id": "Fcl6EKdTv51W"
      },
      "cell_type": "markdown",
      "source": [
        "## Introduction"
      ]
    },
    {
      "metadata": {
        "id": "Rui0kjzEvXTV"
      },
      "cell_type": "markdown",
      "source": [
        "LSTMs are very powerful in sequence prediction problems. They can store past information."
      ]
    },
    {
      "metadata": {
        "id": "Ed7_c04-vz2f"
      },
      "cell_type": "markdown",
      "source": [
        "## Loading the dataset\n",
        "I use pandas-datareader to get the historical stock prices from Yahoo! finance. For this example, I get only the historical data till the end of *training_end_data*.  "
      ]
    },
    {
      "cell_type": "code",
      "source": [
        "from google.colab import drive\n",
        "\n",
        "drive.mount('/content/drive')"
      ],
      "metadata": {
        "id": "pvUtBUZ6N1cq",
        "outputId": "1fdfeacd-0e6f-4d3a-86a4-f7667dff54d9",
        "colab": {
          "base_uri": "https://localhost:8080/"
        }
      },
      "execution_count": null,
      "outputs": [
        {
          "output_type": "stream",
          "name": "stdout",
          "text": [
            "Mounted at /content/drive\n"
          ]
        }
      ]
    },
    {
      "cell_type": "code",
      "source": [
        "!ls '/content/drive/MyDrive'"
      ],
      "metadata": {
        "id": "bzzNQBuZOH7E",
        "outputId": "24523779-ff40-44d6-ddd9-c5b676548216",
        "colab": {
          "base_uri": "https://localhost:8080/"
        }
      },
      "execution_count": null,
      "outputs": [
        {
          "output_type": "stream",
          "name": "stdout",
          "text": [
            "'Algo Final'\t    project-1\n",
            "'Colab Notebooks'   project-2\n",
            " Compiler\t    Robotics\n",
            " dataset.zip\t    robotix_dataset\n",
            "'Deep Learning'    'کارهای روزانه (۱۴ تا ۲۰ خرداد).gsheet'\n",
            " DL-TA\t\t   'کارهای روزانه (21 تا 27 خرداد).gsheet'\n",
            " GOOG.csv\t   'کارهای روزانه (۲۴ تا ۳۰ اردیبهشت).gsheet'\n",
            " GOOG.gsheet\t   'کارهای روزانه (28 خرداد تا 3 تیر).gsheet'\n",
            " Network\t   'کارهای روزانه (۳۱ اردیبهشت تا ۶ خرداد).gsheet'\n",
            " new_project2\t   'کارهای روزانه (۶ تا ۱۳ خرداد).gsheet'\n",
            " others\n"
          ]
        }
      ]
    },
    {
      "metadata": {
        "id": "Hh-pO_QXqysJ"
      },
      "cell_type": "code",
      "source": [
        "import numpy as np\n",
        "import matplotlib.pyplot as plt\n",
        "import pandas as pd\n",
        "from pandas_datareader import data"
      ],
      "execution_count": null,
      "outputs": []
    },
    {
      "metadata": {
        "id": "D8-w0eEtwnaj"
      },
      "cell_type": "code",
      "source": [
        "start_date = '2013-12-20'\n",
        "end_date = '2021-11-04'\n",
        "\n",
        "stock_data = pd.read_csv('/content/drive/MyDrive/GOOG.csv')\n",
        "train_stock_data = stock_data[0:1983]\n"
      ],
      "execution_count": null,
      "outputs": []
    },
    {
      "metadata": {
        "id": "Y2HpcDRd38on",
        "outputId": "e1030c72-4d85-46fc-d234-98c3f2cfe69a",
        "colab": {
          "base_uri": "https://localhost:8080/",
          "height": 363
        }
      },
      "cell_type": "code",
      "source": [
        "train_stock_data.head(10)"
      ],
      "execution_count": null,
      "outputs": [
        {
          "output_type": "execute_result",
          "data": {
            "text/plain": [
              "         Date        Open        High         Low       Close   Adj Close  \\\n",
              "0  2013-12-20  542.117981  548.528992  541.968567  548.255005  548.255005   \n",
              "1  2013-12-23  551.851501  555.816650  550.496582  555.467957  555.467957   \n",
              "2  2013-12-24  555.403198  555.537720  551.981018  553.844055  553.844055   \n",
              "3  2013-12-26  554.924988  557.410706  552.274963  556.643555  556.643555   \n",
              "4  2013-12-27  557.908813  558.048279  554.392029  557.111816  557.111816   \n",
              "5  2013-12-30  558.078186  558.157898  552.439331  552.658508  552.658508   \n",
              "6  2013-12-31  554.043335  558.406982  551.064453  558.262512  558.262512   \n",
              "7  2014-01-02  555.647278  556.788025  552.060730  554.481689  554.481689   \n",
              "8  2014-01-03  555.418152  556.379578  550.401978  550.436829  550.436829   \n",
              "9  2014-01-06  554.426880  557.340942  551.154114  556.573853  556.573853   \n",
              "\n",
              "    Volume  \n",
              "0  6547651  \n",
              "1  3456106  \n",
              "2  1473904  \n",
              "3  2685629  \n",
              "4  3151167  \n",
              "5  2481466  \n",
              "6  2725979  \n",
              "7  3656454  \n",
              "8  3345894  \n",
              "9  3551864  "
            ],
            "text/html": [
              "\n",
              "  <div id=\"df-cdc30a21-55d6-4bc7-9d80-5169f9a62f5e\">\n",
              "    <div class=\"colab-df-container\">\n",
              "      <div>\n",
              "<style scoped>\n",
              "    .dataframe tbody tr th:only-of-type {\n",
              "        vertical-align: middle;\n",
              "    }\n",
              "\n",
              "    .dataframe tbody tr th {\n",
              "        vertical-align: top;\n",
              "    }\n",
              "\n",
              "    .dataframe thead th {\n",
              "        text-align: right;\n",
              "    }\n",
              "</style>\n",
              "<table border=\"1\" class=\"dataframe\">\n",
              "  <thead>\n",
              "    <tr style=\"text-align: right;\">\n",
              "      <th></th>\n",
              "      <th>Date</th>\n",
              "      <th>Open</th>\n",
              "      <th>High</th>\n",
              "      <th>Low</th>\n",
              "      <th>Close</th>\n",
              "      <th>Adj Close</th>\n",
              "      <th>Volume</th>\n",
              "    </tr>\n",
              "  </thead>\n",
              "  <tbody>\n",
              "    <tr>\n",
              "      <th>0</th>\n",
              "      <td>2013-12-20</td>\n",
              "      <td>542.117981</td>\n",
              "      <td>548.528992</td>\n",
              "      <td>541.968567</td>\n",
              "      <td>548.255005</td>\n",
              "      <td>548.255005</td>\n",
              "      <td>6547651</td>\n",
              "    </tr>\n",
              "    <tr>\n",
              "      <th>1</th>\n",
              "      <td>2013-12-23</td>\n",
              "      <td>551.851501</td>\n",
              "      <td>555.816650</td>\n",
              "      <td>550.496582</td>\n",
              "      <td>555.467957</td>\n",
              "      <td>555.467957</td>\n",
              "      <td>3456106</td>\n",
              "    </tr>\n",
              "    <tr>\n",
              "      <th>2</th>\n",
              "      <td>2013-12-24</td>\n",
              "      <td>555.403198</td>\n",
              "      <td>555.537720</td>\n",
              "      <td>551.981018</td>\n",
              "      <td>553.844055</td>\n",
              "      <td>553.844055</td>\n",
              "      <td>1473904</td>\n",
              "    </tr>\n",
              "    <tr>\n",
              "      <th>3</th>\n",
              "      <td>2013-12-26</td>\n",
              "      <td>554.924988</td>\n",
              "      <td>557.410706</td>\n",
              "      <td>552.274963</td>\n",
              "      <td>556.643555</td>\n",
              "      <td>556.643555</td>\n",
              "      <td>2685629</td>\n",
              "    </tr>\n",
              "    <tr>\n",
              "      <th>4</th>\n",
              "      <td>2013-12-27</td>\n",
              "      <td>557.908813</td>\n",
              "      <td>558.048279</td>\n",
              "      <td>554.392029</td>\n",
              "      <td>557.111816</td>\n",
              "      <td>557.111816</td>\n",
              "      <td>3151167</td>\n",
              "    </tr>\n",
              "    <tr>\n",
              "      <th>5</th>\n",
              "      <td>2013-12-30</td>\n",
              "      <td>558.078186</td>\n",
              "      <td>558.157898</td>\n",
              "      <td>552.439331</td>\n",
              "      <td>552.658508</td>\n",
              "      <td>552.658508</td>\n",
              "      <td>2481466</td>\n",
              "    </tr>\n",
              "    <tr>\n",
              "      <th>6</th>\n",
              "      <td>2013-12-31</td>\n",
              "      <td>554.043335</td>\n",
              "      <td>558.406982</td>\n",
              "      <td>551.064453</td>\n",
              "      <td>558.262512</td>\n",
              "      <td>558.262512</td>\n",
              "      <td>2725979</td>\n",
              "    </tr>\n",
              "    <tr>\n",
              "      <th>7</th>\n",
              "      <td>2014-01-02</td>\n",
              "      <td>555.647278</td>\n",
              "      <td>556.788025</td>\n",
              "      <td>552.060730</td>\n",
              "      <td>554.481689</td>\n",
              "      <td>554.481689</td>\n",
              "      <td>3656454</td>\n",
              "    </tr>\n",
              "    <tr>\n",
              "      <th>8</th>\n",
              "      <td>2014-01-03</td>\n",
              "      <td>555.418152</td>\n",
              "      <td>556.379578</td>\n",
              "      <td>550.401978</td>\n",
              "      <td>550.436829</td>\n",
              "      <td>550.436829</td>\n",
              "      <td>3345894</td>\n",
              "    </tr>\n",
              "    <tr>\n",
              "      <th>9</th>\n",
              "      <td>2014-01-06</td>\n",
              "      <td>554.426880</td>\n",
              "      <td>557.340942</td>\n",
              "      <td>551.154114</td>\n",
              "      <td>556.573853</td>\n",
              "      <td>556.573853</td>\n",
              "      <td>3551864</td>\n",
              "    </tr>\n",
              "  </tbody>\n",
              "</table>\n",
              "</div>\n",
              "      <button class=\"colab-df-convert\" onclick=\"convertToInteractive('df-cdc30a21-55d6-4bc7-9d80-5169f9a62f5e')\"\n",
              "              title=\"Convert this dataframe to an interactive table.\"\n",
              "              style=\"display:none;\">\n",
              "        \n",
              "  <svg xmlns=\"http://www.w3.org/2000/svg\" height=\"24px\"viewBox=\"0 0 24 24\"\n",
              "       width=\"24px\">\n",
              "    <path d=\"M0 0h24v24H0V0z\" fill=\"none\"/>\n",
              "    <path d=\"M18.56 5.44l.94 2.06.94-2.06 2.06-.94-2.06-.94-.94-2.06-.94 2.06-2.06.94zm-11 1L8.5 8.5l.94-2.06 2.06-.94-2.06-.94L8.5 2.5l-.94 2.06-2.06.94zm10 10l.94 2.06.94-2.06 2.06-.94-2.06-.94-.94-2.06-.94 2.06-2.06.94z\"/><path d=\"M17.41 7.96l-1.37-1.37c-.4-.4-.92-.59-1.43-.59-.52 0-1.04.2-1.43.59L10.3 9.45l-7.72 7.72c-.78.78-.78 2.05 0 2.83L4 21.41c.39.39.9.59 1.41.59.51 0 1.02-.2 1.41-.59l7.78-7.78 2.81-2.81c.8-.78.8-2.07 0-2.86zM5.41 20L4 18.59l7.72-7.72 1.47 1.35L5.41 20z\"/>\n",
              "  </svg>\n",
              "      </button>\n",
              "      \n",
              "  <style>\n",
              "    .colab-df-container {\n",
              "      display:flex;\n",
              "      flex-wrap:wrap;\n",
              "      gap: 12px;\n",
              "    }\n",
              "\n",
              "    .colab-df-convert {\n",
              "      background-color: #E8F0FE;\n",
              "      border: none;\n",
              "      border-radius: 50%;\n",
              "      cursor: pointer;\n",
              "      display: none;\n",
              "      fill: #1967D2;\n",
              "      height: 32px;\n",
              "      padding: 0 0 0 0;\n",
              "      width: 32px;\n",
              "    }\n",
              "\n",
              "    .colab-df-convert:hover {\n",
              "      background-color: #E2EBFA;\n",
              "      box-shadow: 0px 1px 2px rgba(60, 64, 67, 0.3), 0px 1px 3px 1px rgba(60, 64, 67, 0.15);\n",
              "      fill: #174EA6;\n",
              "    }\n",
              "\n",
              "    [theme=dark] .colab-df-convert {\n",
              "      background-color: #3B4455;\n",
              "      fill: #D2E3FC;\n",
              "    }\n",
              "\n",
              "    [theme=dark] .colab-df-convert:hover {\n",
              "      background-color: #434B5C;\n",
              "      box-shadow: 0px 1px 3px 1px rgba(0, 0, 0, 0.15);\n",
              "      filter: drop-shadow(0px 1px 2px rgba(0, 0, 0, 0.3));\n",
              "      fill: #FFFFFF;\n",
              "    }\n",
              "  </style>\n",
              "\n",
              "      <script>\n",
              "        const buttonEl =\n",
              "          document.querySelector('#df-cdc30a21-55d6-4bc7-9d80-5169f9a62f5e button.colab-df-convert');\n",
              "        buttonEl.style.display =\n",
              "          google.colab.kernel.accessAllowed ? 'block' : 'none';\n",
              "\n",
              "        async function convertToInteractive(key) {\n",
              "          const element = document.querySelector('#df-cdc30a21-55d6-4bc7-9d80-5169f9a62f5e');\n",
              "          const dataTable =\n",
              "            await google.colab.kernel.invokeFunction('convertToInteractive',\n",
              "                                                     [key], {});\n",
              "          if (!dataTable) return;\n",
              "\n",
              "          const docLinkHtml = 'Like what you see? Visit the ' +\n",
              "            '<a target=\"_blank\" href=https://colab.research.google.com/notebooks/data_table.ipynb>data table notebook</a>'\n",
              "            + ' to learn more about interactive tables.';\n",
              "          element.innerHTML = '';\n",
              "          dataTable['output_type'] = 'display_data';\n",
              "          await google.colab.output.renderOutput(dataTable, element);\n",
              "          const docLink = document.createElement('div');\n",
              "          docLink.innerHTML = docLinkHtml;\n",
              "          element.appendChild(docLink);\n",
              "        }\n",
              "      </script>\n",
              "    </div>\n",
              "  </div>\n",
              "  "
            ]
          },
          "metadata": {},
          "execution_count": 10
        }
      ]
    },
    {
      "metadata": {
        "id": "_0UQ1jU7MHYi",
        "outputId": "be40cf68-8e13-4598-c3c6-e383c606c90e",
        "colab": {
          "base_uri": "https://localhost:8080/",
          "height": 300
        }
      },
      "cell_type": "code",
      "source": [
        "train_stock_data.describe()"
      ],
      "execution_count": null,
      "outputs": [
        {
          "output_type": "execute_result",
          "data": {
            "text/plain": [
              "              Open         High          Low        Close    Adj Close  \\\n",
              "count  1983.000000  1983.000000  1983.000000  1983.000000  1983.000000   \n",
              "mean   1102.419486  1112.807280  1092.450837  1103.097195  1103.097195   \n",
              "std     565.243396   570.939114   560.799268   566.304611   566.304611   \n",
              "min     493.295654   494.618011   486.225067   491.201416   491.201416   \n",
              "25%     699.755005   706.794983   692.723480   699.774994   699.774994   \n",
              "50%    1017.210022  1031.579956  1006.289978  1019.270020  1019.270020   \n",
              "75%    1250.294983  1265.705017  1240.500000  1251.739990  1251.739990   \n",
              "max    2963.300049  2999.000000  2932.699951  2973.659912  2973.659912   \n",
              "\n",
              "             Volume  \n",
              "count  1.983000e+03  \n",
              "mean   1.791473e+06  \n",
              "std    1.008781e+06  \n",
              "min    7.922000e+03  \n",
              "25%    1.215800e+06  \n",
              "50%    1.519300e+06  \n",
              "75%    2.010550e+06  \n",
              "max    1.117433e+07  "
            ],
            "text/html": [
              "\n",
              "  <div id=\"df-ad0499e4-c20f-4f5b-b4c3-7eff0273fcb5\">\n",
              "    <div class=\"colab-df-container\">\n",
              "      <div>\n",
              "<style scoped>\n",
              "    .dataframe tbody tr th:only-of-type {\n",
              "        vertical-align: middle;\n",
              "    }\n",
              "\n",
              "    .dataframe tbody tr th {\n",
              "        vertical-align: top;\n",
              "    }\n",
              "\n",
              "    .dataframe thead th {\n",
              "        text-align: right;\n",
              "    }\n",
              "</style>\n",
              "<table border=\"1\" class=\"dataframe\">\n",
              "  <thead>\n",
              "    <tr style=\"text-align: right;\">\n",
              "      <th></th>\n",
              "      <th>Open</th>\n",
              "      <th>High</th>\n",
              "      <th>Low</th>\n",
              "      <th>Close</th>\n",
              "      <th>Adj Close</th>\n",
              "      <th>Volume</th>\n",
              "    </tr>\n",
              "  </thead>\n",
              "  <tbody>\n",
              "    <tr>\n",
              "      <th>count</th>\n",
              "      <td>1983.000000</td>\n",
              "      <td>1983.000000</td>\n",
              "      <td>1983.000000</td>\n",
              "      <td>1983.000000</td>\n",
              "      <td>1983.000000</td>\n",
              "      <td>1.983000e+03</td>\n",
              "    </tr>\n",
              "    <tr>\n",
              "      <th>mean</th>\n",
              "      <td>1102.419486</td>\n",
              "      <td>1112.807280</td>\n",
              "      <td>1092.450837</td>\n",
              "      <td>1103.097195</td>\n",
              "      <td>1103.097195</td>\n",
              "      <td>1.791473e+06</td>\n",
              "    </tr>\n",
              "    <tr>\n",
              "      <th>std</th>\n",
              "      <td>565.243396</td>\n",
              "      <td>570.939114</td>\n",
              "      <td>560.799268</td>\n",
              "      <td>566.304611</td>\n",
              "      <td>566.304611</td>\n",
              "      <td>1.008781e+06</td>\n",
              "    </tr>\n",
              "    <tr>\n",
              "      <th>min</th>\n",
              "      <td>493.295654</td>\n",
              "      <td>494.618011</td>\n",
              "      <td>486.225067</td>\n",
              "      <td>491.201416</td>\n",
              "      <td>491.201416</td>\n",
              "      <td>7.922000e+03</td>\n",
              "    </tr>\n",
              "    <tr>\n",
              "      <th>25%</th>\n",
              "      <td>699.755005</td>\n",
              "      <td>706.794983</td>\n",
              "      <td>692.723480</td>\n",
              "      <td>699.774994</td>\n",
              "      <td>699.774994</td>\n",
              "      <td>1.215800e+06</td>\n",
              "    </tr>\n",
              "    <tr>\n",
              "      <th>50%</th>\n",
              "      <td>1017.210022</td>\n",
              "      <td>1031.579956</td>\n",
              "      <td>1006.289978</td>\n",
              "      <td>1019.270020</td>\n",
              "      <td>1019.270020</td>\n",
              "      <td>1.519300e+06</td>\n",
              "    </tr>\n",
              "    <tr>\n",
              "      <th>75%</th>\n",
              "      <td>1250.294983</td>\n",
              "      <td>1265.705017</td>\n",
              "      <td>1240.500000</td>\n",
              "      <td>1251.739990</td>\n",
              "      <td>1251.739990</td>\n",
              "      <td>2.010550e+06</td>\n",
              "    </tr>\n",
              "    <tr>\n",
              "      <th>max</th>\n",
              "      <td>2963.300049</td>\n",
              "      <td>2999.000000</td>\n",
              "      <td>2932.699951</td>\n",
              "      <td>2973.659912</td>\n",
              "      <td>2973.659912</td>\n",
              "      <td>1.117433e+07</td>\n",
              "    </tr>\n",
              "  </tbody>\n",
              "</table>\n",
              "</div>\n",
              "      <button class=\"colab-df-convert\" onclick=\"convertToInteractive('df-ad0499e4-c20f-4f5b-b4c3-7eff0273fcb5')\"\n",
              "              title=\"Convert this dataframe to an interactive table.\"\n",
              "              style=\"display:none;\">\n",
              "        \n",
              "  <svg xmlns=\"http://www.w3.org/2000/svg\" height=\"24px\"viewBox=\"0 0 24 24\"\n",
              "       width=\"24px\">\n",
              "    <path d=\"M0 0h24v24H0V0z\" fill=\"none\"/>\n",
              "    <path d=\"M18.56 5.44l.94 2.06.94-2.06 2.06-.94-2.06-.94-.94-2.06-.94 2.06-2.06.94zm-11 1L8.5 8.5l.94-2.06 2.06-.94-2.06-.94L8.5 2.5l-.94 2.06-2.06.94zm10 10l.94 2.06.94-2.06 2.06-.94-2.06-.94-.94-2.06-.94 2.06-2.06.94z\"/><path d=\"M17.41 7.96l-1.37-1.37c-.4-.4-.92-.59-1.43-.59-.52 0-1.04.2-1.43.59L10.3 9.45l-7.72 7.72c-.78.78-.78 2.05 0 2.83L4 21.41c.39.39.9.59 1.41.59.51 0 1.02-.2 1.41-.59l7.78-7.78 2.81-2.81c.8-.78.8-2.07 0-2.86zM5.41 20L4 18.59l7.72-7.72 1.47 1.35L5.41 20z\"/>\n",
              "  </svg>\n",
              "      </button>\n",
              "      \n",
              "  <style>\n",
              "    .colab-df-container {\n",
              "      display:flex;\n",
              "      flex-wrap:wrap;\n",
              "      gap: 12px;\n",
              "    }\n",
              "\n",
              "    .colab-df-convert {\n",
              "      background-color: #E8F0FE;\n",
              "      border: none;\n",
              "      border-radius: 50%;\n",
              "      cursor: pointer;\n",
              "      display: none;\n",
              "      fill: #1967D2;\n",
              "      height: 32px;\n",
              "      padding: 0 0 0 0;\n",
              "      width: 32px;\n",
              "    }\n",
              "\n",
              "    .colab-df-convert:hover {\n",
              "      background-color: #E2EBFA;\n",
              "      box-shadow: 0px 1px 2px rgba(60, 64, 67, 0.3), 0px 1px 3px 1px rgba(60, 64, 67, 0.15);\n",
              "      fill: #174EA6;\n",
              "    }\n",
              "\n",
              "    [theme=dark] .colab-df-convert {\n",
              "      background-color: #3B4455;\n",
              "      fill: #D2E3FC;\n",
              "    }\n",
              "\n",
              "    [theme=dark] .colab-df-convert:hover {\n",
              "      background-color: #434B5C;\n",
              "      box-shadow: 0px 1px 3px 1px rgba(0, 0, 0, 0.15);\n",
              "      filter: drop-shadow(0px 1px 2px rgba(0, 0, 0, 0.3));\n",
              "      fill: #FFFFFF;\n",
              "    }\n",
              "  </style>\n",
              "\n",
              "      <script>\n",
              "        const buttonEl =\n",
              "          document.querySelector('#df-ad0499e4-c20f-4f5b-b4c3-7eff0273fcb5 button.colab-df-convert');\n",
              "        buttonEl.style.display =\n",
              "          google.colab.kernel.accessAllowed ? 'block' : 'none';\n",
              "\n",
              "        async function convertToInteractive(key) {\n",
              "          const element = document.querySelector('#df-ad0499e4-c20f-4f5b-b4c3-7eff0273fcb5');\n",
              "          const dataTable =\n",
              "            await google.colab.kernel.invokeFunction('convertToInteractive',\n",
              "                                                     [key], {});\n",
              "          if (!dataTable) return;\n",
              "\n",
              "          const docLinkHtml = 'Like what you see? Visit the ' +\n",
              "            '<a target=\"_blank\" href=https://colab.research.google.com/notebooks/data_table.ipynb>data table notebook</a>'\n",
              "            + ' to learn more about interactive tables.';\n",
              "          element.innerHTML = '';\n",
              "          dataTable['output_type'] = 'display_data';\n",
              "          await google.colab.output.renderOutput(dataTable, element);\n",
              "          const docLink = document.createElement('div');\n",
              "          docLink.innerHTML = docLinkHtml;\n",
              "          element.appendChild(docLink);\n",
              "        }\n",
              "      </script>\n",
              "    </div>\n",
              "  </div>\n",
              "  "
            ]
          },
          "metadata": {},
          "execution_count": 11
        }
      ]
    },
    {
      "metadata": {
        "id": "dFKhZw-YMM0w",
        "outputId": "8250e078-d968-42b2-a4e6-970785c4de79",
        "colab": {
          "base_uri": "https://localhost:8080/"
        }
      },
      "cell_type": "code",
      "source": [
        "train_stock_data_len = train_stock_data['Close'].count()\n",
        "print(train_stock_data_len)"
      ],
      "execution_count": null,
      "outputs": [
        {
          "output_type": "stream",
          "name": "stdout",
          "text": [
            "1983\n"
          ]
        }
      ]
    },
    {
      "metadata": {
        "id": "6jzF16Qr4qOA"
      },
      "cell_type": "markdown",
      "source": [
        "I'm only interested in *close* prices"
      ]
    },
    {
      "metadata": {
        "id": "Ns7Zcn2ZClZS",
        "outputId": "a1a81472-4ce6-4c33-b912-2eed7d0f2636",
        "colab": {
          "base_uri": "https://localhost:8080/"
        }
      },
      "cell_type": "code",
      "source": [
        "close_prices = train_stock_data.iloc[:, 4:5].values\n",
        "print(close_prices)"
      ],
      "execution_count": null,
      "outputs": [
        {
          "output_type": "stream",
          "name": "stdout",
          "text": [
            "[[ 548.255005]\n",
            " [ 555.467957]\n",
            " [ 553.844055]\n",
            " ...\n",
            " [2917.26001 ]\n",
            " [2935.800049]\n",
            " [2973.659912]]\n"
          ]
        }
      ]
    },
    {
      "metadata": {
        "id": "KNaLuS1X5IVA"
      },
      "cell_type": "markdown",
      "source": [
        "Of course, some of the weekdays might be public holidays in which case no price will be available. For this reason, we will fill the missing prices with the latest available prices"
      ]
    },
    {
      "metadata": {
        "id": "P6GTsn7N5Nf2",
        "outputId": "6ee86356-5909-44e2-d306-bcf92263cd47",
        "colab": {
          "base_uri": "https://localhost:8080/"
        }
      },
      "cell_type": "code",
      "source": [
        "all_bussinessdays = pd.date_range(start=start_date, end=end_date, freq='B')\n",
        "print(all_bussinessdays)"
      ],
      "execution_count": null,
      "outputs": [
        {
          "output_type": "stream",
          "name": "stdout",
          "text": [
            "DatetimeIndex(['2013-12-20', '2013-12-23', '2013-12-24', '2013-12-25',\n",
            "               '2013-12-26', '2013-12-27', '2013-12-30', '2013-12-31',\n",
            "               '2014-01-01', '2014-01-02',\n",
            "               ...\n",
            "               '2021-10-22', '2021-10-25', '2021-10-26', '2021-10-27',\n",
            "               '2021-10-28', '2021-10-29', '2021-11-01', '2021-11-02',\n",
            "               '2021-11-03', '2021-11-04'],\n",
            "              dtype='datetime64[ns]', length=2055, freq='B')\n"
          ]
        }
      ]
    },
    {
      "metadata": {
        "id": "NDu-0h2i9MkT"
      },
      "cell_type": "code",
      "source": [
        "close_prices = train_stock_data.reindex(all_bussinessdays)\n",
        "close_prices = train_stock_data.fillna(method='ffill')"
      ],
      "execution_count": null,
      "outputs": []
    },
    {
      "metadata": {
        "id": "xTieT-gC5e-p",
        "outputId": "312db3f5-8901-4cec-c643-d3b53cdf893a",
        "colab": {
          "base_uri": "https://localhost:8080/",
          "height": 363
        }
      },
      "cell_type": "code",
      "source": [
        "close_prices.head(10)"
      ],
      "execution_count": null,
      "outputs": [
        {
          "output_type": "execute_result",
          "data": {
            "text/plain": [
              "         Date        Open        High         Low       Close   Adj Close  \\\n",
              "0  2013-12-20  542.117981  548.528992  541.968567  548.255005  548.255005   \n",
              "1  2013-12-23  551.851501  555.816650  550.496582  555.467957  555.467957   \n",
              "2  2013-12-24  555.403198  555.537720  551.981018  553.844055  553.844055   \n",
              "3  2013-12-26  554.924988  557.410706  552.274963  556.643555  556.643555   \n",
              "4  2013-12-27  557.908813  558.048279  554.392029  557.111816  557.111816   \n",
              "5  2013-12-30  558.078186  558.157898  552.439331  552.658508  552.658508   \n",
              "6  2013-12-31  554.043335  558.406982  551.064453  558.262512  558.262512   \n",
              "7  2014-01-02  555.647278  556.788025  552.060730  554.481689  554.481689   \n",
              "8  2014-01-03  555.418152  556.379578  550.401978  550.436829  550.436829   \n",
              "9  2014-01-06  554.426880  557.340942  551.154114  556.573853  556.573853   \n",
              "\n",
              "    Volume  \n",
              "0  6547651  \n",
              "1  3456106  \n",
              "2  1473904  \n",
              "3  2685629  \n",
              "4  3151167  \n",
              "5  2481466  \n",
              "6  2725979  \n",
              "7  3656454  \n",
              "8  3345894  \n",
              "9  3551864  "
            ],
            "text/html": [
              "\n",
              "  <div id=\"df-c2268cc0-7be3-47a8-99d5-37ae589981a3\">\n",
              "    <div class=\"colab-df-container\">\n",
              "      <div>\n",
              "<style scoped>\n",
              "    .dataframe tbody tr th:only-of-type {\n",
              "        vertical-align: middle;\n",
              "    }\n",
              "\n",
              "    .dataframe tbody tr th {\n",
              "        vertical-align: top;\n",
              "    }\n",
              "\n",
              "    .dataframe thead th {\n",
              "        text-align: right;\n",
              "    }\n",
              "</style>\n",
              "<table border=\"1\" class=\"dataframe\">\n",
              "  <thead>\n",
              "    <tr style=\"text-align: right;\">\n",
              "      <th></th>\n",
              "      <th>Date</th>\n",
              "      <th>Open</th>\n",
              "      <th>High</th>\n",
              "      <th>Low</th>\n",
              "      <th>Close</th>\n",
              "      <th>Adj Close</th>\n",
              "      <th>Volume</th>\n",
              "    </tr>\n",
              "  </thead>\n",
              "  <tbody>\n",
              "    <tr>\n",
              "      <th>0</th>\n",
              "      <td>2013-12-20</td>\n",
              "      <td>542.117981</td>\n",
              "      <td>548.528992</td>\n",
              "      <td>541.968567</td>\n",
              "      <td>548.255005</td>\n",
              "      <td>548.255005</td>\n",
              "      <td>6547651</td>\n",
              "    </tr>\n",
              "    <tr>\n",
              "      <th>1</th>\n",
              "      <td>2013-12-23</td>\n",
              "      <td>551.851501</td>\n",
              "      <td>555.816650</td>\n",
              "      <td>550.496582</td>\n",
              "      <td>555.467957</td>\n",
              "      <td>555.467957</td>\n",
              "      <td>3456106</td>\n",
              "    </tr>\n",
              "    <tr>\n",
              "      <th>2</th>\n",
              "      <td>2013-12-24</td>\n",
              "      <td>555.403198</td>\n",
              "      <td>555.537720</td>\n",
              "      <td>551.981018</td>\n",
              "      <td>553.844055</td>\n",
              "      <td>553.844055</td>\n",
              "      <td>1473904</td>\n",
              "    </tr>\n",
              "    <tr>\n",
              "      <th>3</th>\n",
              "      <td>2013-12-26</td>\n",
              "      <td>554.924988</td>\n",
              "      <td>557.410706</td>\n",
              "      <td>552.274963</td>\n",
              "      <td>556.643555</td>\n",
              "      <td>556.643555</td>\n",
              "      <td>2685629</td>\n",
              "    </tr>\n",
              "    <tr>\n",
              "      <th>4</th>\n",
              "      <td>2013-12-27</td>\n",
              "      <td>557.908813</td>\n",
              "      <td>558.048279</td>\n",
              "      <td>554.392029</td>\n",
              "      <td>557.111816</td>\n",
              "      <td>557.111816</td>\n",
              "      <td>3151167</td>\n",
              "    </tr>\n",
              "    <tr>\n",
              "      <th>5</th>\n",
              "      <td>2013-12-30</td>\n",
              "      <td>558.078186</td>\n",
              "      <td>558.157898</td>\n",
              "      <td>552.439331</td>\n",
              "      <td>552.658508</td>\n",
              "      <td>552.658508</td>\n",
              "      <td>2481466</td>\n",
              "    </tr>\n",
              "    <tr>\n",
              "      <th>6</th>\n",
              "      <td>2013-12-31</td>\n",
              "      <td>554.043335</td>\n",
              "      <td>558.406982</td>\n",
              "      <td>551.064453</td>\n",
              "      <td>558.262512</td>\n",
              "      <td>558.262512</td>\n",
              "      <td>2725979</td>\n",
              "    </tr>\n",
              "    <tr>\n",
              "      <th>7</th>\n",
              "      <td>2014-01-02</td>\n",
              "      <td>555.647278</td>\n",
              "      <td>556.788025</td>\n",
              "      <td>552.060730</td>\n",
              "      <td>554.481689</td>\n",
              "      <td>554.481689</td>\n",
              "      <td>3656454</td>\n",
              "    </tr>\n",
              "    <tr>\n",
              "      <th>8</th>\n",
              "      <td>2014-01-03</td>\n",
              "      <td>555.418152</td>\n",
              "      <td>556.379578</td>\n",
              "      <td>550.401978</td>\n",
              "      <td>550.436829</td>\n",
              "      <td>550.436829</td>\n",
              "      <td>3345894</td>\n",
              "    </tr>\n",
              "    <tr>\n",
              "      <th>9</th>\n",
              "      <td>2014-01-06</td>\n",
              "      <td>554.426880</td>\n",
              "      <td>557.340942</td>\n",
              "      <td>551.154114</td>\n",
              "      <td>556.573853</td>\n",
              "      <td>556.573853</td>\n",
              "      <td>3551864</td>\n",
              "    </tr>\n",
              "  </tbody>\n",
              "</table>\n",
              "</div>\n",
              "      <button class=\"colab-df-convert\" onclick=\"convertToInteractive('df-c2268cc0-7be3-47a8-99d5-37ae589981a3')\"\n",
              "              title=\"Convert this dataframe to an interactive table.\"\n",
              "              style=\"display:none;\">\n",
              "        \n",
              "  <svg xmlns=\"http://www.w3.org/2000/svg\" height=\"24px\"viewBox=\"0 0 24 24\"\n",
              "       width=\"24px\">\n",
              "    <path d=\"M0 0h24v24H0V0z\" fill=\"none\"/>\n",
              "    <path d=\"M18.56 5.44l.94 2.06.94-2.06 2.06-.94-2.06-.94-.94-2.06-.94 2.06-2.06.94zm-11 1L8.5 8.5l.94-2.06 2.06-.94-2.06-.94L8.5 2.5l-.94 2.06-2.06.94zm10 10l.94 2.06.94-2.06 2.06-.94-2.06-.94-.94-2.06-.94 2.06-2.06.94z\"/><path d=\"M17.41 7.96l-1.37-1.37c-.4-.4-.92-.59-1.43-.59-.52 0-1.04.2-1.43.59L10.3 9.45l-7.72 7.72c-.78.78-.78 2.05 0 2.83L4 21.41c.39.39.9.59 1.41.59.51 0 1.02-.2 1.41-.59l7.78-7.78 2.81-2.81c.8-.78.8-2.07 0-2.86zM5.41 20L4 18.59l7.72-7.72 1.47 1.35L5.41 20z\"/>\n",
              "  </svg>\n",
              "      </button>\n",
              "      \n",
              "  <style>\n",
              "    .colab-df-container {\n",
              "      display:flex;\n",
              "      flex-wrap:wrap;\n",
              "      gap: 12px;\n",
              "    }\n",
              "\n",
              "    .colab-df-convert {\n",
              "      background-color: #E8F0FE;\n",
              "      border: none;\n",
              "      border-radius: 50%;\n",
              "      cursor: pointer;\n",
              "      display: none;\n",
              "      fill: #1967D2;\n",
              "      height: 32px;\n",
              "      padding: 0 0 0 0;\n",
              "      width: 32px;\n",
              "    }\n",
              "\n",
              "    .colab-df-convert:hover {\n",
              "      background-color: #E2EBFA;\n",
              "      box-shadow: 0px 1px 2px rgba(60, 64, 67, 0.3), 0px 1px 3px 1px rgba(60, 64, 67, 0.15);\n",
              "      fill: #174EA6;\n",
              "    }\n",
              "\n",
              "    [theme=dark] .colab-df-convert {\n",
              "      background-color: #3B4455;\n",
              "      fill: #D2E3FC;\n",
              "    }\n",
              "\n",
              "    [theme=dark] .colab-df-convert:hover {\n",
              "      background-color: #434B5C;\n",
              "      box-shadow: 0px 1px 3px 1px rgba(0, 0, 0, 0.15);\n",
              "      filter: drop-shadow(0px 1px 2px rgba(0, 0, 0, 0.3));\n",
              "      fill: #FFFFFF;\n",
              "    }\n",
              "  </style>\n",
              "\n",
              "      <script>\n",
              "        const buttonEl =\n",
              "          document.querySelector('#df-c2268cc0-7be3-47a8-99d5-37ae589981a3 button.colab-df-convert');\n",
              "        buttonEl.style.display =\n",
              "          google.colab.kernel.accessAllowed ? 'block' : 'none';\n",
              "\n",
              "        async function convertToInteractive(key) {\n",
              "          const element = document.querySelector('#df-c2268cc0-7be3-47a8-99d5-37ae589981a3');\n",
              "          const dataTable =\n",
              "            await google.colab.kernel.invokeFunction('convertToInteractive',\n",
              "                                                     [key], {});\n",
              "          if (!dataTable) return;\n",
              "\n",
              "          const docLinkHtml = 'Like what you see? Visit the ' +\n",
              "            '<a target=\"_blank\" href=https://colab.research.google.com/notebooks/data_table.ipynb>data table notebook</a>'\n",
              "            + ' to learn more about interactive tables.';\n",
              "          element.innerHTML = '';\n",
              "          dataTable['output_type'] = 'display_data';\n",
              "          await google.colab.output.renderOutput(dataTable, element);\n",
              "          const docLink = document.createElement('div');\n",
              "          docLink.innerHTML = docLinkHtml;\n",
              "          element.appendChild(docLink);\n",
              "        }\n",
              "      </script>\n",
              "    </div>\n",
              "  </div>\n",
              "  "
            ]
          },
          "metadata": {},
          "execution_count": 16
        }
      ]
    },
    {
      "metadata": {
        "id": "06xfVbrD51Id"
      },
      "cell_type": "markdown",
      "source": [
        "The dataset is now complete and free of missing values. Let's have a look to the data frame summary:"
      ]
    },
    {
      "metadata": {
        "id": "TR3_R4OF8pNo"
      },
      "cell_type": "markdown",
      "source": [
        "## Feature scaling"
      ]
    },
    {
      "metadata": {
        "id": "hFwPXHiU8rDv"
      },
      "cell_type": "code",
      "source": [
        "training_set = close_prices.iloc[:, 4:5].values"
      ],
      "execution_count": null,
      "outputs": []
    },
    {
      "metadata": {
        "id": "GvPn9l4d-NyM",
        "outputId": "0ce3e41c-66c1-4e72-c0f4-0af245c495a1",
        "colab": {
          "base_uri": "https://localhost:8080/"
        }
      },
      "cell_type": "code",
      "source": [
        "print(training_set)"
      ],
      "execution_count": null,
      "outputs": [
        {
          "output_type": "stream",
          "name": "stdout",
          "text": [
            "[[ 548.255005]\n",
            " [ 555.467957]\n",
            " [ 553.844055]\n",
            " ...\n",
            " [2917.26001 ]\n",
            " [2935.800049]\n",
            " [2973.659912]]\n"
          ]
        }
      ]
    },
    {
      "metadata": {
        "id": "c9TpiTPs9QtF",
        "outputId": "de7ac62e-ecf8-41fb-ad1f-8ad74da00aa2",
        "colab": {
          "base_uri": "https://localhost:8080/"
        }
      },
      "cell_type": "code",
      "source": [
        "from sklearn.preprocessing import MinMaxScaler\n",
        "sc = MinMaxScaler(feature_range = (0, 1))\n",
        "training_set_scaled = sc.fit_transform(training_set)\n",
        "print(training_set_scaled.shape)"
      ],
      "execution_count": null,
      "outputs": [
        {
          "output_type": "stream",
          "name": "stdout",
          "text": [
            "(1983, 1)\n"
          ]
        }
      ]
    },
    {
      "metadata": {
        "id": "NmYp53pYHeQu"
      },
      "cell_type": "markdown",
      "source": [
        "LSTMs expect the data in a specific format, usually a 3D tensor. I start by creating data with 60 days and converting it into an array using NumPy. Next, I convert the data into a 3D dimension array with feature_set samples, 60 days and one feature at each step."
      ]
    },
    {
      "metadata": {
        "id": "HSZBYUcIDfWV"
      },
      "cell_type": "code",
      "source": [
        "features = []\n",
        "labels = []\n",
        "for i in range(30, train_stock_data_len):\n",
        "    features.append(training_set_scaled[i-30:i, 0])\n",
        "    labels.append(training_set_scaled[i, 0])\n",
        "\n",
        "features = np.array(features)\n",
        "labels = np.array(labels)\n",
        "\n",
        "features = np.reshape(features, (features.shape[0], features.shape[1], 1))"
      ],
      "execution_count": null,
      "outputs": []
    },
    {
      "metadata": {
        "id": "gi-GwAE_LDZm",
        "outputId": "8c9a7c21-255d-4cd6-9492-e04ab2b71787",
        "colab": {
          "base_uri": "https://localhost:8080/"
        }
      },
      "cell_type": "code",
      "source": [
        "print(labels)"
      ],
      "execution_count": null,
      "outputs": [
        {
          "output_type": "stream",
          "name": "stdout",
          "text": [
            "[0.03152685 0.03488993 0.03839747 ... 0.97728063 0.98474904 1.        ]\n"
          ]
        }
      ]
    },
    {
      "metadata": {
        "id": "atE8xU7HLuI2",
        "outputId": "24839ffd-536a-44df-c066-4850d5ac5b9a",
        "colab": {
          "base_uri": "https://localhost:8080/"
        }
      },
      "cell_type": "code",
      "source": [
        "print(features)"
      ],
      "execution_count": null,
      "outputs": [
        {
          "output_type": "stream",
          "name": "stdout",
          "text": [
            "[[[0.0229827 ]\n",
            "  [0.02588826]\n",
            "  [0.02523411]\n",
            "  ...\n",
            "  [0.03910581]\n",
            "  [0.02956639]\n",
            "  [0.03051551]]\n",
            "\n",
            " [[0.02588826]\n",
            "  [0.02523411]\n",
            "  [0.02636183]\n",
            "  ...\n",
            "  [0.02956639]\n",
            "  [0.03051551]\n",
            "  [0.03152685]]\n",
            "\n",
            " [[0.02523411]\n",
            "  [0.02636183]\n",
            "  [0.02655045]\n",
            "  ...\n",
            "  [0.03051551]\n",
            "  [0.03152685]\n",
            "  [0.03488993]]\n",
            "\n",
            " ...\n",
            "\n",
            " [[0.92719718]\n",
            "  [0.93760625]\n",
            "  [0.94476045]\n",
            "  ...\n",
            "  [0.97942369]\n",
            "  [0.99667668]\n",
            "  [0.96045052]]\n",
            "\n",
            " [[0.93760625]\n",
            "  [0.94476045]\n",
            "  [0.951258  ]\n",
            "  ...\n",
            "  [0.99667668]\n",
            "  [0.96045052]\n",
            "  [0.97728063]]\n",
            "\n",
            " [[0.94476045]\n",
            "  [0.951258  ]\n",
            "  [0.94213805]\n",
            "  ...\n",
            "  [0.96045052]\n",
            "  [0.97728063]\n",
            "  [0.98474904]]]\n"
          ]
        }
      ]
    },
    {
      "metadata": {
        "id": "tfK2gzVI_sTX"
      },
      "cell_type": "markdown",
      "source": [
        "Feature tensor with three dimension: features[0] contains the ..., features[1] contains the last 60 days of values and features [2] contains the  ..."
      ]
    },
    {
      "metadata": {
        "id": "VlzVripUIyCb",
        "outputId": "8a9be9cb-2153-4fcd-99c2-4324855d0c9c",
        "colab": {
          "base_uri": "https://localhost:8080/"
        }
      },
      "cell_type": "code",
      "source": [
        "print(features.shape)"
      ],
      "execution_count": null,
      "outputs": [
        {
          "output_type": "stream",
          "name": "stdout",
          "text": [
            "(1953, 30, 1)\n"
          ]
        }
      ]
    },
    {
      "metadata": {
        "id": "-MQYJqsDGFYA"
      },
      "cell_type": "markdown",
      "source": [
        "## Create the LSTM network\n",
        "Let's create a sequenced LSTM network with 50 units. Also the net includes some dropout layers with 0.2 which means that 20% of the neurons will be dropped."
      ]
    },
    {
      "metadata": {
        "id": "057FLdkzDk1t"
      },
      "cell_type": "code",
      "source": [
        "import tensorflow as tf"
      ],
      "execution_count": null,
      "outputs": []
    },
    {
      "metadata": {
        "id": "Tel113HiEcYE"
      },
      "cell_type": "code",
      "source": [
        "model = tf.keras.models.Sequential([\n",
        "    tf.keras.layers.LSTM(units = 50, return_sequences = True, input_shape = (features.shape[1], 1)),\n",
        "    tf.keras.layers.Dropout(0.2),\n",
        "    tf.keras.layers.LSTM(units = 50, return_sequences = True),\n",
        "    tf.keras.layers.Dropout(0.2),\n",
        "    tf.keras.layers.LSTM(units = 50, return_sequences = True),\n",
        "    tf.keras.layers.Dropout(0.2),\n",
        "    tf.keras.layers.LSTM(units = 50),\n",
        "    tf.keras.layers.Dropout(0.2),\n",
        "    tf.keras.layers.Dense(units = 1)\n",
        "])"
      ],
      "execution_count": null,
      "outputs": []
    },
    {
      "metadata": {
        "id": "7nlzkKHiPuaR",
        "outputId": "1cead822-ea78-4b9b-c5af-531764e68f03",
        "colab": {
          "base_uri": "https://localhost:8080/"
        }
      },
      "cell_type": "code",
      "source": [
        "print(model.summary())"
      ],
      "execution_count": null,
      "outputs": [
        {
          "output_type": "stream",
          "name": "stdout",
          "text": [
            "Model: \"sequential\"\n",
            "_________________________________________________________________\n",
            " Layer (type)                Output Shape              Param #   \n",
            "=================================================================\n",
            " lstm (LSTM)                 (None, 30, 50)            10400     \n",
            "                                                                 \n",
            " dropout (Dropout)           (None, 30, 50)            0         \n",
            "                                                                 \n",
            " lstm_1 (LSTM)               (None, 30, 50)            20200     \n",
            "                                                                 \n",
            " dropout_1 (Dropout)         (None, 30, 50)            0         \n",
            "                                                                 \n",
            " lstm_2 (LSTM)               (None, 30, 50)            20200     \n",
            "                                                                 \n",
            " dropout_2 (Dropout)         (None, 30, 50)            0         \n",
            "                                                                 \n",
            " lstm_3 (LSTM)               (None, 50)                20200     \n",
            "                                                                 \n",
            " dropout_3 (Dropout)         (None, 50)                0         \n",
            "                                                                 \n",
            " dense (Dense)               (None, 1)                 51        \n",
            "                                                                 \n",
            "=================================================================\n",
            "Total params: 71,051\n",
            "Trainable params: 71,051\n",
            "Non-trainable params: 0\n",
            "_________________________________________________________________\n",
            "None\n"
          ]
        }
      ]
    },
    {
      "metadata": {
        "id": "5W-xbus6hr3B"
      },
      "cell_type": "code",
      "source": [
        "#tf.keras.utils.plot_model(model, to_file='my_model.png')\n"
      ],
      "execution_count": null,
      "outputs": []
    },
    {
      "metadata": {
        "id": "Dh55JJQwpK5-"
      },
      "cell_type": "code",
      "source": [
        "# Run tensorboard with the logdir\n",
        "#import os\n",
        "#LOG_BASE_DIR = './log'\n",
        "#os.makedirs(LOG_BASE_DIR, exist_ok=True)"
      ],
      "execution_count": null,
      "outputs": []
    },
    {
      "metadata": {
        "id": "z8f8PuP0tuxv"
      },
      "cell_type": "code",
      "source": [
        "#!ls -l log"
      ],
      "execution_count": null,
      "outputs": []
    },
    {
      "metadata": {
        "id": "MtpzRCsqvjnQ"
      },
      "cell_type": "markdown",
      "source": [
        "## Load the Colab TensorBoard extention and start TensorBoard inline"
      ]
    },
    {
      "metadata": {
        "id": "AxpGbuaSr9uc"
      },
      "cell_type": "code",
      "source": [
        "#%load_ext tensorboard.notebook\n",
        "#%tensorboard --logdir {LOG_BASE_DIR}"
      ],
      "execution_count": null,
      "outputs": []
    },
    {
      "metadata": {
        "id": "KG7MP-S0oVAv"
      },
      "cell_type": "markdown",
      "source": [
        "## Define a TensorBoard callback"
      ]
    },
    {
      "metadata": {
        "id": "Ju7MktT7sX1s"
      },
      "cell_type": "code",
      "source": [
        "#import datetime\n",
        "#logdir = os.path.join(LOG_BASE_DIR, datetime.datetime.now().strftime(\"%Y%m%d-%H%M%S\"))"
      ],
      "execution_count": null,
      "outputs": []
    },
    {
      "metadata": {
        "id": "eUl1ilfJnYrR"
      },
      "cell_type": "code",
      "source": [
        "#from tensorflow.keras.callbacks import TensorBoard\n",
        "\n",
        "#tbCallBack = TensorBoard(logdir,histogram_freq=1)"
      ],
      "execution_count": null,
      "outputs": []
    },
    {
      "metadata": {
        "id": "TVtDPeEZGmqP"
      },
      "cell_type": "markdown",
      "source": [
        "The model will be compiled and optimize by the adam optimizer and set the loss function as mean_squarred_error"
      ]
    },
    {
      "metadata": {
        "id": "lj9k7R5UFrqO"
      },
      "cell_type": "code",
      "source": [
        "model.compile(optimizer = 'adam', loss = 'mean_squared_error')"
      ],
      "execution_count": null,
      "outputs": []
    },
    {
      "metadata": {
        "id": "eW4rvRXENWYC"
      },
      "cell_type": "code",
      "source": [
        "#import os\n",
        "#print(os.environ)"
      ],
      "execution_count": null,
      "outputs": []
    },
    {
      "metadata": {
        "id": "3pMuiSsIOAJa"
      },
      "cell_type": "code",
      "source": [
        "#tf.test.gpu_device_name()"
      ],
      "execution_count": null,
      "outputs": []
    },
    {
      "metadata": {
        "id": "k3Od5nUSVlJ6"
      },
      "cell_type": "code",
      "source": [
        "#from tensorflow.python.client import device_lib\n",
        "#device_lib.list_local_devices()"
      ],
      "execution_count": null,
      "outputs": []
    },
    {
      "metadata": {
        "id": "vdatQv4CTSvn",
        "outputId": "b274c16d-75ba-4d1a-eae2-7cc973e50401",
        "colab": {
          "base_uri": "https://localhost:8080/"
        }
      },
      "cell_type": "code",
      "source": [
        "from time import time\n",
        "start = time()\n",
        "history = model.fit(features, labels, epochs = 20, batch_size = 32, verbose = 1)\n",
        "end = time()"
      ],
      "execution_count": null,
      "outputs": [
        {
          "output_type": "stream",
          "name": "stdout",
          "text": [
            "Epoch 1/20\n",
            "62/62 [==============================] - 19s 13ms/step - loss: 0.0093\n",
            "Epoch 2/20\n",
            "62/62 [==============================] - 1s 10ms/step - loss: 0.0021\n",
            "Epoch 3/20\n",
            "62/62 [==============================] - 1s 10ms/step - loss: 0.0019\n",
            "Epoch 4/20\n",
            "62/62 [==============================] - 1s 10ms/step - loss: 0.0016\n",
            "Epoch 5/20\n",
            "62/62 [==============================] - 1s 10ms/step - loss: 0.0014\n",
            "Epoch 6/20\n",
            "62/62 [==============================] - 1s 10ms/step - loss: 0.0014\n",
            "Epoch 7/20\n",
            "62/62 [==============================] - 1s 11ms/step - loss: 0.0015\n",
            "Epoch 8/20\n",
            "62/62 [==============================] - 1s 10ms/step - loss: 0.0018\n",
            "Epoch 9/20\n",
            "62/62 [==============================] - 1s 10ms/step - loss: 0.0013\n",
            "Epoch 10/20\n",
            "62/62 [==============================] - 1s 10ms/step - loss: 0.0014\n",
            "Epoch 11/20\n",
            "62/62 [==============================] - 1s 10ms/step - loss: 0.0015\n",
            "Epoch 12/20\n",
            "62/62 [==============================] - 1s 10ms/step - loss: 0.0012\n",
            "Epoch 13/20\n",
            "62/62 [==============================] - 1s 10ms/step - loss: 0.0018\n",
            "Epoch 14/20\n",
            "62/62 [==============================] - 1s 10ms/step - loss: 0.0011\n",
            "Epoch 15/20\n",
            "62/62 [==============================] - 1s 10ms/step - loss: 9.4213e-04\n",
            "Epoch 16/20\n",
            "62/62 [==============================] - 1s 10ms/step - loss: 0.0011\n",
            "Epoch 17/20\n",
            "62/62 [==============================] - 1s 10ms/step - loss: 0.0012\n",
            "Epoch 18/20\n",
            "62/62 [==============================] - 1s 10ms/step - loss: 0.0011\n",
            "Epoch 19/20\n",
            "62/62 [==============================] - 1s 10ms/step - loss: 9.1108e-04\n",
            "Epoch 20/20\n",
            "62/62 [==============================] - 1s 10ms/step - loss: 0.0013\n"
          ]
        }
      ]
    },
    {
      "metadata": {
        "id": "CMjYNddpWzrs",
        "outputId": "b64a5b48-745a-46d9-cb30-344d59580fc1",
        "colab": {
          "base_uri": "https://localhost:8080/"
        }
      },
      "cell_type": "code",
      "source": [
        "print('Total training time {} seconds'.format(end - start))"
      ],
      "execution_count": null,
      "outputs": [
        {
          "output_type": "stream",
          "name": "stdout",
          "text": [
            "Total training time 31.276707649230957 seconds\n"
          ]
        }
      ]
    },
    {
      "metadata": {
        "id": "0jX-nM6dfJSp",
        "colab": {
          "base_uri": "https://localhost:8080/"
        },
        "outputId": "653679ff-879c-41b2-d76b-79899e6b02f0"
      },
      "cell_type": "code",
      "source": [
        "#  [samples, days, features]\n",
        "print(features.shape)"
      ],
      "execution_count": null,
      "outputs": [
        {
          "output_type": "stream",
          "name": "stdout",
          "text": [
            "(1953, 30, 1)\n"
          ]
        }
      ]
    },
    {
      "metadata": {
        "id": "yztm7-PfI_zx"
      },
      "cell_type": "code",
      "source": [
        "testing_start_date = '2021-11-05'\n",
        "testing_end_date = '2021-12-17'\n",
        "\n",
        "test_stock_data = stock_data[-30:]"
      ],
      "execution_count": null,
      "outputs": []
    },
    {
      "metadata": {
        "id": "VXVbTnlWd1iY",
        "colab": {
          "base_uri": "https://localhost:8080/",
          "height": 363
        },
        "outputId": "4675695a-3592-4833-fb32-4580c2048cb9"
      },
      "cell_type": "code",
      "source": [
        "test_stock_data.head(10)"
      ],
      "execution_count": null,
      "outputs": [
        {
          "output_type": "execute_result",
          "data": {
            "text/plain": [
              "            Date         Open         High          Low        Close  \\\n",
              "1983  2021-11-05  2987.070068  3011.415039  2973.040039  2984.820068   \n",
              "1984  2021-11-08  3000.000000  3020.689941  2982.399902  2987.030029   \n",
              "1985  2021-11-09  2994.919922  3007.570068  2950.139893  2984.969971   \n",
              "1986  2021-11-10  2960.195068  2974.000000  2906.500000  2932.520020   \n",
              "1987  2021-11-11  2942.139893  2970.044922  2933.889893  2934.959961   \n",
              "1988  2021-11-12  2956.629883  2997.189941  2929.080078  2992.909912   \n",
              "1989  2021-11-15  3000.000000  3009.540039  2973.050049  2987.760010   \n",
              "1990  2021-11-16  2983.409912  2996.649902  2967.000000  2981.520020   \n",
              "1991  2021-11-17  2984.580078  2992.520020  2971.260010  2981.239990   \n",
              "1992  2021-11-18  2982.919922  3032.199951  2979.969971  3014.179932   \n",
              "\n",
              "        Adj Close   Volume  \n",
              "1983  2984.820068  1019700  \n",
              "1984  2987.030029   919400  \n",
              "1985  2984.969971   843800  \n",
              "1986  2932.520020  1135400  \n",
              "1987  2934.959961   623200  \n",
              "1988  2992.909912   852000  \n",
              "1989  2987.760010   812400  \n",
              "1990  2981.520020   862700  \n",
              "1991  2981.239990   764500  \n",
              "1992  3014.179932  1332900  "
            ],
            "text/html": [
              "\n",
              "  <div id=\"df-98b79e86-e08f-48a3-98e7-229c2682e2f7\">\n",
              "    <div class=\"colab-df-container\">\n",
              "      <div>\n",
              "<style scoped>\n",
              "    .dataframe tbody tr th:only-of-type {\n",
              "        vertical-align: middle;\n",
              "    }\n",
              "\n",
              "    .dataframe tbody tr th {\n",
              "        vertical-align: top;\n",
              "    }\n",
              "\n",
              "    .dataframe thead th {\n",
              "        text-align: right;\n",
              "    }\n",
              "</style>\n",
              "<table border=\"1\" class=\"dataframe\">\n",
              "  <thead>\n",
              "    <tr style=\"text-align: right;\">\n",
              "      <th></th>\n",
              "      <th>Date</th>\n",
              "      <th>Open</th>\n",
              "      <th>High</th>\n",
              "      <th>Low</th>\n",
              "      <th>Close</th>\n",
              "      <th>Adj Close</th>\n",
              "      <th>Volume</th>\n",
              "    </tr>\n",
              "  </thead>\n",
              "  <tbody>\n",
              "    <tr>\n",
              "      <th>1983</th>\n",
              "      <td>2021-11-05</td>\n",
              "      <td>2987.070068</td>\n",
              "      <td>3011.415039</td>\n",
              "      <td>2973.040039</td>\n",
              "      <td>2984.820068</td>\n",
              "      <td>2984.820068</td>\n",
              "      <td>1019700</td>\n",
              "    </tr>\n",
              "    <tr>\n",
              "      <th>1984</th>\n",
              "      <td>2021-11-08</td>\n",
              "      <td>3000.000000</td>\n",
              "      <td>3020.689941</td>\n",
              "      <td>2982.399902</td>\n",
              "      <td>2987.030029</td>\n",
              "      <td>2987.030029</td>\n",
              "      <td>919400</td>\n",
              "    </tr>\n",
              "    <tr>\n",
              "      <th>1985</th>\n",
              "      <td>2021-11-09</td>\n",
              "      <td>2994.919922</td>\n",
              "      <td>3007.570068</td>\n",
              "      <td>2950.139893</td>\n",
              "      <td>2984.969971</td>\n",
              "      <td>2984.969971</td>\n",
              "      <td>843800</td>\n",
              "    </tr>\n",
              "    <tr>\n",
              "      <th>1986</th>\n",
              "      <td>2021-11-10</td>\n",
              "      <td>2960.195068</td>\n",
              "      <td>2974.000000</td>\n",
              "      <td>2906.500000</td>\n",
              "      <td>2932.520020</td>\n",
              "      <td>2932.520020</td>\n",
              "      <td>1135400</td>\n",
              "    </tr>\n",
              "    <tr>\n",
              "      <th>1987</th>\n",
              "      <td>2021-11-11</td>\n",
              "      <td>2942.139893</td>\n",
              "      <td>2970.044922</td>\n",
              "      <td>2933.889893</td>\n",
              "      <td>2934.959961</td>\n",
              "      <td>2934.959961</td>\n",
              "      <td>623200</td>\n",
              "    </tr>\n",
              "    <tr>\n",
              "      <th>1988</th>\n",
              "      <td>2021-11-12</td>\n",
              "      <td>2956.629883</td>\n",
              "      <td>2997.189941</td>\n",
              "      <td>2929.080078</td>\n",
              "      <td>2992.909912</td>\n",
              "      <td>2992.909912</td>\n",
              "      <td>852000</td>\n",
              "    </tr>\n",
              "    <tr>\n",
              "      <th>1989</th>\n",
              "      <td>2021-11-15</td>\n",
              "      <td>3000.000000</td>\n",
              "      <td>3009.540039</td>\n",
              "      <td>2973.050049</td>\n",
              "      <td>2987.760010</td>\n",
              "      <td>2987.760010</td>\n",
              "      <td>812400</td>\n",
              "    </tr>\n",
              "    <tr>\n",
              "      <th>1990</th>\n",
              "      <td>2021-11-16</td>\n",
              "      <td>2983.409912</td>\n",
              "      <td>2996.649902</td>\n",
              "      <td>2967.000000</td>\n",
              "      <td>2981.520020</td>\n",
              "      <td>2981.520020</td>\n",
              "      <td>862700</td>\n",
              "    </tr>\n",
              "    <tr>\n",
              "      <th>1991</th>\n",
              "      <td>2021-11-17</td>\n",
              "      <td>2984.580078</td>\n",
              "      <td>2992.520020</td>\n",
              "      <td>2971.260010</td>\n",
              "      <td>2981.239990</td>\n",
              "      <td>2981.239990</td>\n",
              "      <td>764500</td>\n",
              "    </tr>\n",
              "    <tr>\n",
              "      <th>1992</th>\n",
              "      <td>2021-11-18</td>\n",
              "      <td>2982.919922</td>\n",
              "      <td>3032.199951</td>\n",
              "      <td>2979.969971</td>\n",
              "      <td>3014.179932</td>\n",
              "      <td>3014.179932</td>\n",
              "      <td>1332900</td>\n",
              "    </tr>\n",
              "  </tbody>\n",
              "</table>\n",
              "</div>\n",
              "      <button class=\"colab-df-convert\" onclick=\"convertToInteractive('df-98b79e86-e08f-48a3-98e7-229c2682e2f7')\"\n",
              "              title=\"Convert this dataframe to an interactive table.\"\n",
              "              style=\"display:none;\">\n",
              "        \n",
              "  <svg xmlns=\"http://www.w3.org/2000/svg\" height=\"24px\"viewBox=\"0 0 24 24\"\n",
              "       width=\"24px\">\n",
              "    <path d=\"M0 0h24v24H0V0z\" fill=\"none\"/>\n",
              "    <path d=\"M18.56 5.44l.94 2.06.94-2.06 2.06-.94-2.06-.94-.94-2.06-.94 2.06-2.06.94zm-11 1L8.5 8.5l.94-2.06 2.06-.94-2.06-.94L8.5 2.5l-.94 2.06-2.06.94zm10 10l.94 2.06.94-2.06 2.06-.94-2.06-.94-.94-2.06-.94 2.06-2.06.94z\"/><path d=\"M17.41 7.96l-1.37-1.37c-.4-.4-.92-.59-1.43-.59-.52 0-1.04.2-1.43.59L10.3 9.45l-7.72 7.72c-.78.78-.78 2.05 0 2.83L4 21.41c.39.39.9.59 1.41.59.51 0 1.02-.2 1.41-.59l7.78-7.78 2.81-2.81c.8-.78.8-2.07 0-2.86zM5.41 20L4 18.59l7.72-7.72 1.47 1.35L5.41 20z\"/>\n",
              "  </svg>\n",
              "      </button>\n",
              "      \n",
              "  <style>\n",
              "    .colab-df-container {\n",
              "      display:flex;\n",
              "      flex-wrap:wrap;\n",
              "      gap: 12px;\n",
              "    }\n",
              "\n",
              "    .colab-df-convert {\n",
              "      background-color: #E8F0FE;\n",
              "      border: none;\n",
              "      border-radius: 50%;\n",
              "      cursor: pointer;\n",
              "      display: none;\n",
              "      fill: #1967D2;\n",
              "      height: 32px;\n",
              "      padding: 0 0 0 0;\n",
              "      width: 32px;\n",
              "    }\n",
              "\n",
              "    .colab-df-convert:hover {\n",
              "      background-color: #E2EBFA;\n",
              "      box-shadow: 0px 1px 2px rgba(60, 64, 67, 0.3), 0px 1px 3px 1px rgba(60, 64, 67, 0.15);\n",
              "      fill: #174EA6;\n",
              "    }\n",
              "\n",
              "    [theme=dark] .colab-df-convert {\n",
              "      background-color: #3B4455;\n",
              "      fill: #D2E3FC;\n",
              "    }\n",
              "\n",
              "    [theme=dark] .colab-df-convert:hover {\n",
              "      background-color: #434B5C;\n",
              "      box-shadow: 0px 1px 3px 1px rgba(0, 0, 0, 0.15);\n",
              "      filter: drop-shadow(0px 1px 2px rgba(0, 0, 0, 0.3));\n",
              "      fill: #FFFFFF;\n",
              "    }\n",
              "  </style>\n",
              "\n",
              "      <script>\n",
              "        const buttonEl =\n",
              "          document.querySelector('#df-98b79e86-e08f-48a3-98e7-229c2682e2f7 button.colab-df-convert');\n",
              "        buttonEl.style.display =\n",
              "          google.colab.kernel.accessAllowed ? 'block' : 'none';\n",
              "\n",
              "        async function convertToInteractive(key) {\n",
              "          const element = document.querySelector('#df-98b79e86-e08f-48a3-98e7-229c2682e2f7');\n",
              "          const dataTable =\n",
              "            await google.colab.kernel.invokeFunction('convertToInteractive',\n",
              "                                                     [key], {});\n",
              "          if (!dataTable) return;\n",
              "\n",
              "          const docLinkHtml = 'Like what you see? Visit the ' +\n",
              "            '<a target=\"_blank\" href=https://colab.research.google.com/notebooks/data_table.ipynb>data table notebook</a>'\n",
              "            + ' to learn more about interactive tables.';\n",
              "          element.innerHTML = '';\n",
              "          dataTable['output_type'] = 'display_data';\n",
              "          await google.colab.output.renderOutput(dataTable, element);\n",
              "          const docLink = document.createElement('div');\n",
              "          docLink.innerHTML = docLinkHtml;\n",
              "          element.appendChild(docLink);\n",
              "        }\n",
              "      </script>\n",
              "    </div>\n",
              "  </div>\n",
              "  "
            ]
          },
          "metadata": {},
          "execution_count": 41
        }
      ]
    },
    {
      "metadata": {
        "id": "1iaY63cEJzTD"
      },
      "cell_type": "code",
      "source": [
        "test_stock_data_processed = test_stock_data.iloc[:, 4:5].values\n"
      ],
      "execution_count": null,
      "outputs": []
    },
    {
      "metadata": {
        "id": "QdBH51wlaost",
        "colab": {
          "base_uri": "https://localhost:8080/"
        },
        "outputId": "1c7ab9e8-6b96-4ca3-adcf-82dcb2ddc9f7"
      },
      "cell_type": "code",
      "source": [
        "print(test_stock_data_processed.shape)"
      ],
      "execution_count": null,
      "outputs": [
        {
          "output_type": "stream",
          "name": "stdout",
          "text": [
            "(30, 1)\n"
          ]
        }
      ]
    },
    {
      "metadata": {
        "id": "q66EIEAXb1Pw",
        "colab": {
          "base_uri": "https://localhost:8080/"
        },
        "outputId": "549b1f1a-1718-45b0-e5e8-402e590f6205"
      },
      "cell_type": "code",
      "source": [
        "all_stock_data = pd.concat((train_stock_data['Close'], test_stock_data['Close']), axis = 0)\n",
        "print(len(all_stock_data))\n",
        "print(len(train_stock_data))\n",
        "print(len(test_stock_data))\n"
      ],
      "execution_count": null,
      "outputs": [
        {
          "output_type": "stream",
          "name": "stdout",
          "text": [
            "2013\n",
            "1983\n",
            "30\n"
          ]
        }
      ]
    },
    {
      "metadata": {
        "id": "ugpDI3hkc8Eo",
        "colab": {
          "base_uri": "https://localhost:8080/"
        },
        "outputId": "47331324-1b23-4a63-e734-3e9ac709d9cb"
      },
      "cell_type": "code",
      "source": [
        "inputs = all_stock_data[len(all_stock_data) - len(test_stock_data) - 30:].values\n",
        "inputs = inputs.reshape(-1,1)\n",
        "inputs = sc.transform(inputs)\n",
        "print(inputs.shape)"
      ],
      "execution_count": null,
      "outputs": [
        {
          "output_type": "stream",
          "name": "stdout",
          "text": [
            "(60, 1)\n"
          ]
        }
      ]
    },
    {
      "metadata": {
        "id": "EMsXM9nEdDXS",
        "colab": {
          "base_uri": "https://localhost:8080/"
        },
        "outputId": "7bc801b0-6a43-458f-a3c3-a3abf7fee38e"
      },
      "cell_type": "code",
      "source": [
        "X_test = []\n",
        "for i in range(30, 129):\n",
        "    X_test.append(inputs[i-30:i, 0])"
      ],
      "execution_count": null,
      "outputs": [
        {
          "output_type": "stream",
          "name": "stdout",
          "text": [
            "<class 'list'>\n"
          ]
        }
      ]
    },
    {
      "metadata": {
        "id": "JBo5fWfwek9K",
        "colab": {
          "base_uri": "https://localhost:8080/"
        },
        "outputId": "7606c04b-a5a8-473b-b5e4-68216f65b63e"
      },
      "cell_type": "code",
      "source": [
        "X_test = np.asarray(X_test)\n",
        "# X_test = np.reshape(X_test, (X_test.shape[0], X_test.shape[1], 1))\n",
        "X_test_reshape = np.reshape(X_test, X_test.shape)\n",
        "# predicted_stock_price = model.predict(tf. convert_to_tensor(X_test_reshape))\n",
        "# predicted_stock_price = sc.inverse_transform(predicted_stock_price)\n",
        "# print(X_test.shape[0])\n",
        "\n",
        "print(type(X_test))\n",
        "numpy_arr = np.array([[1,2],[3,4]])\n",
        "# print(type(numpy_arr))\n",
        "# print(tf.convert_to_tensor(X_test))"
      ],
      "execution_count": null,
      "outputs": [
        {
          "output_type": "stream",
          "name": "stdout",
          "text": [
            "<class 'numpy.ndarray'>\n"
          ]
        },
        {
          "output_type": "stream",
          "name": "stderr",
          "text": [
            "/usr/local/lib/python3.7/dist-packages/ipykernel_launcher.py:1: VisibleDeprecationWarning: Creating an ndarray from ragged nested sequences (which is a list-or-tuple of lists-or-tuples-or ndarrays with different lengths or shapes) is deprecated. If you meant to do this, you must specify 'dtype=object' when creating the ndarray.\n",
            "  \"\"\"Entry point for launching an IPython kernel.\n"
          ]
        }
      ]
    },
    {
      "metadata": {
        "id": "EuEl7MRrdLUK",
        "colab": {
          "base_uri": "https://localhost:8080/",
          "height": 424
        },
        "outputId": "f0bc8c11-19c2-4eb4-af11-6189fcab8721"
      },
      "cell_type": "code",
      "source": [
        "plt.figure(figsize=(10,6))\n",
        "plt.plot(test_stock_data_processed, color='blue', label='Actual Apple Stock Price')\n",
        "plt.plot(predicted_stock_price , color='red', label='Predicted Apple Stock Price')\n",
        "plt.title('Apple Stock Price Prediction')\n",
        "plt.xlabel('Date')\n",
        "plt.ylabel('Apple Stock Price')\n",
        "plt.legend()\n",
        "plt.show()"
      ],
      "execution_count": null,
      "outputs": [
        {
          "output_type": "display_data",
          "data": {
            "image/png": "[encoded data removed]",
            "text/plain": [
              "<Figure size 720x432 with 1 Axes>"
            ]
          },
          "metadata": {
            "tags": []
          }
        }
      ]
    },
    {
      "metadata": {
        "id": "IgIl5LKMKgU4"
      },
      "cell_type": "code",
      "source": [
        "#inputs = inputs.reshape(-1,1)\n",
        "#inputs = sc.transform(inputs)\n",
        "\n",
        "\n",
        "test_inputs = test_stock_data_processed.reshape(-1,1)\n",
        "test_inputs = sc.transform(test_inputs)\n",
        "\n",
        "\n",
        "print(test_inputs.shape)"
      ],
      "execution_count": null,
      "outputs": []
    },
    {
      "metadata": {
        "id": "1o-fpVjsdPiR"
      },
      "cell_type": "code",
      "source": [
        "test_features = []\n",
        "for i in range(60, 291):\n",
        "    test_features.append(test_inputs[i-60:i, 0])\n",
        "\n",
        "test_features = np.array(test_features)"
      ],
      "execution_count": null,
      "outputs": []
    },
    {
      "metadata": {
        "id": "EFQQ4Hkhcp2b"
      },
      "cell_type": "code",
      "source": [
        "test_features = np.reshape(test_features, (test_features.shape[0], test_features.shape[1], 1))\n",
        "print(test_features.shape)"
      ],
      "execution_count": null,
      "outputs": []
    },
    {
      "metadata": {
        "id": "TkGzHUBzKuGl"
      },
      "cell_type": "code",
      "source": [
        "predicted_stock_price = model.predict(test_features)"
      ],
      "execution_count": null,
      "outputs": []
    },
    {
      "metadata": {
        "id": "FZ4hDjOXgmBX"
      },
      "cell_type": "code",
      "source": [
        "predicted_stock_price = sc.inverse_transform(predicted_stock_price)\n",
        "print(predicted_stock_price.shape)"
      ],
      "execution_count": null,
      "outputs": []
    },
    {
      "metadata": {
        "id": "Fz-mr1dT1Omh"
      },
      "cell_type": "code",
      "source": [
        "print(test_stock_data_processed.shape)"
      ],
      "execution_count": null,
      "outputs": []
    },
    {
      "metadata": {
        "id": "Alsqt3-lgsfj"
      },
      "cell_type": "code",
      "source": [
        "plt.figure(figsize=(10,6))\n",
        "plt.plot(test_stock_data_processed, color='blue', label='Actual Apple Stock Price')\n",
        "plt.plot(predicted_stock_price , color='red', label='Predicted Apple Stock Price')\n",
        "plt.title('Apple Stock Price Prediction')\n",
        "plt.xlabel('Date')\n",
        "plt.ylabel('Apple Stock Price')\n",
        "plt.legend()\n",
        "plt.show()"
      ],
      "execution_count": null,
      "outputs": []
    },
    {
      "metadata": {
        "id": "mPYS78ikjcIa"
      },
      "cell_type": "markdown",
      "source": [
        "## Download the model and the weights"
      ]
    },
    {
      "metadata": {
        "id": "knvmvzsZjN1r"
      },
      "cell_type": "code",
      "source": [
        "from google.colab import files"
      ],
      "execution_count": null,
      "outputs": []
    },
    {
      "metadata": {
        "id": "zlfsWuIPi48Y",
        "colab": {
          "base_uri": "https://localhost:8080/",
          "height": 207
        },
        "outputId": "5bba0925-da7a-497a-8820-f2886a3ce9c0"
      },
      "cell_type": "code",
      "source": [
        "model_json = model.to_json()\n",
        "with open(\"model.json\", \"w\") as json_file:\n",
        "  json_file.write(model_json)"
      ],
      "execution_count": null,
      "outputs": [
        {
          "output_type": "error",
          "ename": "NameError",
          "evalue": "ignored",
          "traceback": [
            "\u001b[0;31m---------------------------------------------------------------------------\u001b[0m",
            "\u001b[0;31mNameError\u001b[0m                                 Traceback (most recent call last)",
            "\u001b[0;32m<ipython-input-21-3b616bd06044>\u001b[0m in \u001b[0;36m<module>\u001b[0;34m()\u001b[0m\n\u001b[0;32m----> 1\u001b[0;31m \u001b[0mmodel_json\u001b[0m \u001b[0;34m=\u001b[0m \u001b[0mmodel\u001b[0m\u001b[0;34m.\u001b[0m\u001b[0mto_json\u001b[0m\u001b[0;34m(\u001b[0m\u001b[0;34m)\u001b[0m\u001b[0;34m\u001b[0m\u001b[0;34m\u001b[0m\u001b[0m\n\u001b[0m\u001b[1;32m      2\u001b[0m \u001b[0;32mwith\u001b[0m \u001b[0mopen\u001b[0m\u001b[0;34m(\u001b[0m\u001b[0;34m\"model.json\"\u001b[0m\u001b[0;34m,\u001b[0m \u001b[0;34m\"w\"\u001b[0m\u001b[0;34m)\u001b[0m \u001b[0;32mas\u001b[0m \u001b[0mjson_file\u001b[0m\u001b[0;34m:\u001b[0m\u001b[0;34m\u001b[0m\u001b[0;34m\u001b[0m\u001b[0m\n\u001b[1;32m      3\u001b[0m   \u001b[0mjson_file\u001b[0m\u001b[0;34m.\u001b[0m\u001b[0mwrite\u001b[0m\u001b[0;34m(\u001b[0m\u001b[0mmodel_json\u001b[0m\u001b[0;34m)\u001b[0m\u001b[0;34m\u001b[0m\u001b[0;34m\u001b[0m\u001b[0m\n",
            "\u001b[0;31mNameError\u001b[0m: name 'model' is not defined"
          ]
        }
      ]
    },
    {
      "metadata": {
        "id": "t_Zig-9ojIQK"
      },
      "cell_type": "code",
      "source": [
        "files.download(\"model.json\")"
      ],
      "execution_count": null,
      "outputs": []
    },
    {
      "metadata": {
        "id": "VQBt2bNCjVGb"
      },
      "cell_type": "code",
      "source": [
        "model.save('weights.h5')\n",
        "files.download('weights.h5')"
      ],
      "execution_count": null,
      "outputs": []
    }
  ]
}